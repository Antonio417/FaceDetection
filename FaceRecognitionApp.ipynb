{
 "cells": [
  {
   "cell_type": "code",
   "execution_count": 1,
   "id": "892f479f",
   "metadata": {},
   "outputs": [],
   "source": [
    "# Import standard dependencies\n",
    "import cv2\n",
    "import os\n",
    "import random\n",
    "import numpy as np\n",
    "from matplotlib import pyplot as plt"
   ]
  },
  {
   "cell_type": "code",
   "execution_count": 2,
   "id": "520b091b",
   "metadata": {},
   "outputs": [],
   "source": [
    "# Import tensorflow dependencies - Functional API\n",
    "import tensorflow as tf\n",
    "from tensorflow.keras.models import Model\n",
    "from tensorflow.keras.layers import Layer, Conv2D, Dense, MaxPooling2D, Input, Flatten"
   ]
  },
  {
   "cell_type": "markdown",
   "id": "bbe909c3",
   "metadata": {},
   "source": [
    "# Folder Structures"
   ]
  },
  {
   "cell_type": "code",
   "execution_count": 3,
   "id": "edd9f1a5",
   "metadata": {},
   "outputs": [],
   "source": [
    "# Anchor Image = Input Image => image from camera\n",
    "# Positive and Negative Image\n",
    "# does Anchor image and match the positive or negative image ?\n",
    "# Setup Path\n",
    "P_path = os.path.join('data','positive')\n",
    "N_path = os.path.join('data','negative')\n",
    "A_path = os.path.join('data','anchor')"
   ]
  },
  {
   "cell_type": "code",
   "execution_count": 4,
   "id": "2fa3920d",
   "metadata": {},
   "outputs": [],
   "source": [
    "# Make the directories\n",
    "# os.makedirs(P_path)\n",
    "# os.makedirs(N_path)\n",
    "# os.makedirs(A_path)"
   ]
  },
  {
   "cell_type": "markdown",
   "id": "e6355862",
   "metadata": {},
   "source": [
    "# Collect Positive, Negative and Anchor Class"
   ]
  },
  {
   "cell_type": "code",
   "execution_count": 82,
   "id": "a37b360a",
   "metadata": {},
   "outputs": [],
   "source": [
    "import uuid"
   ]
  },
  {
   "cell_type": "code",
   "execution_count": 83,
   "id": "984c3409",
   "metadata": {},
   "outputs": [],
   "source": [
    "# Labelled Faces in the Wild Dataset from http://vis-www.cs.umass.edu/lfw/\n",
    "# !tar -xf lfw.tgz"
   ]
  },
  {
   "cell_type": "code",
   "execution_count": 84,
   "id": "08da6df1",
   "metadata": {},
   "outputs": [],
   "source": [
    "# Move all lfw Images to N_path folder\n",
    "# for directory in os.listdir('lfw'):\n",
    "#     for file in os.listdir(os.path.join('lfw', directory)):\n",
    "#         EX_PATH = os.path.join('lfw', directory, file)\n",
    "#         NEW_PATH = os.path.join(N_path, file)\n",
    "#         os.replace(EX_PATH, NEW_PATH)\n",
    "# lfw folder is deleted after this step"
   ]
  },
  {
   "cell_type": "code",
   "execution_count": 85,
   "id": "749f486d",
   "metadata": {},
   "outputs": [],
   "source": [
    "# Establish a connection to the webcam\n",
    "cap = cv2.VideoCapture(0)\n",
    "while cap.isOpened(): \n",
    "    ret, frame = cap.read()\n",
    "   \n",
    "    # Cut down frame to 250x250px\n",
    "    frame = frame[200:200+220,500:500+250, :]\n",
    "    \n",
    "    # Collect anchors \n",
    "    if cv2.waitKey(1) & 0XFF == ord('a'):\n",
    "        # Create the unique file path \n",
    "        imgname = os.path.join(A_path, '{}.jpg'.format(uuid.uuid1()))\n",
    "        # Write out anchor image\n",
    "        cv2.imwrite(imgname, frame)\n",
    "    \n",
    "    # Collect positives\n",
    "    if cv2.waitKey(1) & 0XFF == ord('p'):\n",
    "        # Create the unique file path \n",
    "        imgname = os.path.join(P_path, '{}.jpg'.format(uuid.uuid1()))\n",
    "        # Write out positive image\n",
    "        cv2.imwrite(imgname, frame)\n",
    "    \n",
    "    # Show image back to screen\n",
    "    cv2.imshow('Image Collection', frame)\n",
    "    \n",
    "    # Breaking \n",
    "    # When q is hit, it will break\n",
    "    if cv2.waitKey(1) & 0XFF == ord('q'):\n",
    "        break\n",
    "        \n",
    "# Release the webcam\n",
    "cap.release()\n",
    "# Close the image show frame\n",
    "cv2.destroyAllWindows()"
   ]
  },
  {
   "cell_type": "code",
   "execution_count": 80,
   "id": "8e9d46f4",
   "metadata": {},
   "outputs": [],
   "source": [
    "#frame.shape = (720, 1280, 3)\n",
    "# We want it to be (240,250,3)\n",
    "# plt.imshow(frame[200:200+250,500:500+250, :]) # To increase the accuracy"
   ]
  },
  {
   "cell_type": "code",
   "execution_count": null,
   "id": "5c228892",
   "metadata": {},
   "outputs": [],
   "source": []
  }
 ],
 "metadata": {
  "kernelspec": {
   "display_name": "Python 3 (ipykernel)",
   "language": "python",
   "name": "python3"
  },
  "language_info": {
   "codemirror_mode": {
    "name": "ipython",
    "version": 3
   },
   "file_extension": ".py",
   "mimetype": "text/x-python",
   "name": "python",
   "nbconvert_exporter": "python",
   "pygments_lexer": "ipython3",
   "version": "3.7.10"
  }
 },
 "nbformat": 4,
 "nbformat_minor": 5
}
