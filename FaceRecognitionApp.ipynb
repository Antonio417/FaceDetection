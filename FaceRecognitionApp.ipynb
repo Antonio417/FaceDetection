{
 "cells": [
  {
   "cell_type": "code",
   "execution_count": 1,
   "id": "892f479f",
   "metadata": {},
   "outputs": [],
   "source": [
    "# Import standard dependencies\n",
    "import cv2\n",
    "import os\n",
    "import random\n",
    "import numpy as np\n",
    "from matplotlib import pyplot as plt"
   ]
  },
  {
   "cell_type": "code",
   "execution_count": 2,
   "id": "520b091b",
   "metadata": {},
   "outputs": [],
   "source": [
    "# Import tensorflow dependencies - Functional API\n",
    "import tensorflow as tf\n",
    "from tensorflow.keras.models import Model\n",
    "from tensorflow.keras.layers import Layer, Conv2D, Dense, MaxPooling2D, Input, Flatten"
   ]
  },
  {
   "cell_type": "markdown",
   "id": "bbe909c3",
   "metadata": {},
   "source": [
    "# Folder Structures"
   ]
  },
  {
   "cell_type": "code",
   "execution_count": 3,
   "id": "edd9f1a5",
   "metadata": {},
   "outputs": [],
   "source": [
    "# Anchor Image = Input Image => image from camera\n",
    "# Positive and Negative Image\n",
    "# does Anchor image and match the positive or negative image ?\n",
    "# Setup Path\n",
    "P_path = os.path.join('positive')\n",
    "N_path = os.path.join('negative')\n",
    "A_path = os.path.join('anchor')"
   ]
  },
  {
   "cell_type": "code",
   "execution_count": 4,
   "id": "2fa3920d",
   "metadata": {},
   "outputs": [],
   "source": [
    "# Make the directories\n",
    "os.makedirs(P_path)\n",
    "os.makedirs(N_path)\n",
    "os.makedirs(A_path)"
   ]
  },
  {
   "cell_type": "code",
   "execution_count": null,
   "id": "984c3409",
   "metadata": {},
   "outputs": [],
   "source": []
  }
 ],
 "metadata": {
  "kernelspec": {
   "display_name": "Python 3",
   "language": "python",
   "name": "python3"
  },
  "language_info": {
   "codemirror_mode": {
    "name": "ipython",
    "version": 3
   },
   "file_extension": ".py",
   "mimetype": "text/x-python",
   "name": "python",
   "nbconvert_exporter": "python",
   "pygments_lexer": "ipython3",
   "version": "3.6.13"
  }
 },
 "nbformat": 4,
 "nbformat_minor": 5
}
